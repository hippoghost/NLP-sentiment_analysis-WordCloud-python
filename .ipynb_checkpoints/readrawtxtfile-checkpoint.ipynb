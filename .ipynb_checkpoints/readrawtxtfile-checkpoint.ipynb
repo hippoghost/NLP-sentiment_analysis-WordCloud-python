{
 "cells": [
  {
   "cell_type": "code",
   "execution_count": null,
   "id": "48104aff",
   "metadata": {},
   "outputs": [],
   "source": [
    "import urllib\n",
    "response = urllib.request.urlopen(\"https://github.com/hippoghost/NLP-sentiment_analysis-WordCloud-python/blob/master/lyrics.txt\")\n",
    "Text = response.read()\n",
    "Text=Text.decode(\"utf-8\") "
   ]
  },
  {
   "cell_type": "code",
   "execution_count": 4,
   "id": "9169bbd3",
   "metadata": {},
   "outputs": [
    {
     "name": "stdout",
     "output_type": "stream",
     "text": [
      "USE\r\n",
      "What I do for you it's true\r\n",
      "Don't even think about it\r\n",
      "I give you all my life when you\r\n",
      "Can't live without it\r\n",
      "\r\n",
      "Well I was getting high\r\n",
      "Well I was getting high\r\n",
      "Well I was getting high\r\n",
      "Well I was getting high that's way\r\n",
      "\r\n",
      "Give me, Give me, Give me\r\n",
      "I'll never grow up no\r\n",
      "\r\n",
      "The only thing I want from you\r\n",
      "Is your goddamn addiction\r\n",
      "But you don't want to hear\r\n",
      "About my fucking revolution\r\n",
      "\n"
     ]
    }
   ],
   "source": [
    "import base64\n",
    "import requests\n",
    "\n",
    "master = \"https://raw.githubusercontent.com/hippoghost/testrepo/master/testnote.txt\"\n",
    "req = requests.get(master)\n",
    "req = req.text\n",
    "print(req)"
   ]
  },
  {
   "cell_type": "code",
   "execution_count": null,
   "id": "19a19045",
   "metadata": {},
   "outputs": [],
   "source": [
    "import urllib\n",
    "\n",
    "# Get master directory\n",
    "speech_dir =\"https://raw.githubusercontent.com/hippoghost/NLP-sentiment_analysis-WordCloud-python/lyrics.txt\"\n",
    "# Iterate through all speeches in directory, from 00 to 73\n",
    "cur_speech = 00\n",
    "end_speech = 73\n",
    "while (cur_speech <= end_speech):\n",
    "    # Change the speech you want to get\n",
    "    speech_nm = ('speech_' + str(cur_speech) +'.txt')\n",
    "    response = urllib.request.urlopen(speech_nm)\n",
    "    # Do what you need to with the speech\n",
    "    Text = response.read()\n",
    "    Text = Text.decode(\"utf-8\")\n",
    "    # Update to the new speech\n",
    "    cur_speech +=1"
   ]
  },
  {
   "cell_type": "code",
   "execution_count": null,
   "id": "cdfdc22a",
   "metadata": {},
   "outputs": [],
   "source": [
    "import base64\n",
    "import requests\n",
    "\n",
    "master = \"https://github.com/hippoghost/NLP-sentiment_analysis-WordCloud-python/blob/master/lyrics.txt\"\n",
    "req = requests.get(master)\n",
    "req = req.text\n",
    "print(req)"
   ]
  },
  {
   "cell_type": "code",
   "execution_count": null,
   "id": "06530f7d",
   "metadata": {},
   "outputs": [],
   "source": [
    "#url = \"https://github.com/hippoghost/NLP-sentiment_analysis-WordCloud-python/blob/master/lyrics.txt\"\n",
    "import requests\n",
    "url = \"https://raw.githubusercontent.com/hippoghost/NLP-sentiment_analysis-WordCloud-python/lyrics.txt\"\n",
    "page = requests.get(url)\n",
    "print( page.text)"
   ]
  },
  {
   "cell_type": "code",
   "execution_count": null,
   "id": "048eda4f",
   "metadata": {},
   "outputs": [],
   "source": [
    "import urllib\n",
    "response = urllib.request.urlopen(\"https://github.com/hippoghost/NLP-sentiment_analysis-WordCloud-python/blob/master/lyrics.txt\")\n",
    "Text = response.read()\n",
    "Text=Text.decode(\"utf-8\") "
   ]
  },
  {
   "cell_type": "code",
   "execution_count": null,
   "id": "eed84cce",
   "metadata": {},
   "outputs": [],
   "source": [
    "import base64\n",
    "import requests\n",
    "\n",
    "\n",
    "url =  \"https://raw.githubusercontent.com/hippoghost/NLP-sentiment_analysis-WordCloud-python/blob/master/lyrics.txt\"\n",
    "req = requests.get(url)\n",
    "if req.status_code == requests.codes.ok:\n",
    "    req = req.json()  # the response is a JSON\n",
    "    # req is now a dict with keys: name, encoding, url, size ...\n",
    "    # and content. But it is encoded with base64.\n",
    "    content = base64.decodestring(req['content'])\n",
    "else:\n",
    "    print('Content was not found.')"
   ]
  }
 ],
 "metadata": {
  "kernelspec": {
   "display_name": "Python 3 (ipykernel)",
   "language": "python",
   "name": "python3"
  },
  "language_info": {
   "codemirror_mode": {
    "name": "ipython",
    "version": 3
   },
   "file_extension": ".py",
   "mimetype": "text/x-python",
   "name": "python",
   "nbconvert_exporter": "python",
   "pygments_lexer": "ipython3",
   "version": "3.11.1"
  }
 },
 "nbformat": 4,
 "nbformat_minor": 5
}
